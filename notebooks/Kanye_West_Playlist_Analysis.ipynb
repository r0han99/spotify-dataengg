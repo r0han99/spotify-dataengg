{
 "cells": [
  {
   "cell_type": "markdown",
   "id": "15f033d9",
   "metadata": {},
   "source": [
    "# Kanye West Playlist Analysis\n",
    "\n",
    "This notebook provides visualizations for various audio features of songs from a Kanye West playlist, using data obtained from the Spotify API.\n"
   ]
  },
  {
   "cell_type": "code",
   "execution_count": null,
   "id": "3ca2aab8",
   "metadata": {},
   "outputs": [],
   "source": [
    "import pandas as pd\n",
    "import seaborn as sns\n",
    "import matplotlib.pyplot as plt\n"
   ]
  },
  {
   "cell_type": "code",
   "execution_count": null,
   "id": "fdfef7e3",
   "metadata": {},
   "outputs": [],
   "source": [
    "# Load the dataset\n",
    "file_path = 'sample-playlist-audio-features.csv'  # Update the path if necessary\n",
    "df = pd.read_csv(file_path)\n",
    "df.head()\n"
   ]
  },
  {
   "cell_type": "code",
   "execution_count": null,
   "id": "98973d9e",
   "metadata": {},
   "outputs": [],
   "source": [
    "# Danceability distribution plot\n",
    "plt.figure(figsize=(8, 5))\n",
    "sns.histplot(df['Danceability'], kde=True, color='blue')\n",
    "plt.title('Distribution of Danceability')\n",
    "plt.xlabel('Danceability')\n",
    "plt.ylabel('Count')\n",
    "plt.show()\n"
   ]
  }
 ],
 "metadata": {},
 "nbformat": 4,
 "nbformat_minor": 5
}
