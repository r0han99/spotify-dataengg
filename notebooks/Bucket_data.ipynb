{
 "cells": [
  {
   "cell_type": "code",
   "execution_count": 2,
   "id": "71fb834a",
   "metadata": {},
   "outputs": [
    {
     "name": "stdout",
     "output_type": "stream",
     "text": [
      "                               title         artist  \\\n",
      "0    All I Want for Christmas Is You   Mariah Carey   \n",
      "1    Last Christmas - Single Version          Wham!   \n",
      "2  Rockin' Around The Christmas Tree     Brenda Lee   \n",
      "3                   Jingle Bell Rock    Bobby Helms   \n",
      "4                      Santa Tell Me  Ariana Grande   \n",
      "\n",
      "                                               album  streaming_numbers  \\\n",
      "0                                    Merry Christmas                NaN   \n",
      "1        The Singles: Echoes from the Edge of Heaven                NaN   \n",
      "2                    Merry Christmas From Brenda Lee                NaN   \n",
      "3  Jingle Bell Rock/Captain Santa Claus (And His ...                NaN   \n",
      "4                                      Santa Tell Me                NaN   \n",
      "\n",
      "   trending  \n",
      "0       NaN  \n",
      "1       NaN  \n",
      "2       NaN  \n",
      "3       NaN  \n",
      "4       NaN  \n"
     ]
    }
   ],
   "source": [
    "import pandas as pd \n",
    "import boto3\n",
    "\n",
    "\n",
    "\n",
    "# Read file from s3 - Make sure to have all my creds.\n",
    "obj = s3.Bucket('dcsc-spotify').Object('Extract/top_50_df.csv').get()\n",
    "data = pd.read_csv(obj['Body'], index_col=0)\n",
    "print(data.head())"
   ]
  },
  {
   "cell_type": "code",
   "execution_count": null,
   "id": "16b09a06",
   "metadata": {},
   "outputs": [],
   "source": []
  }
 ],
 "metadata": {
  "kernelspec": {
   "display_name": "Python 3 (ipykernel)",
   "language": "python",
   "name": "python3"
  },
  "language_info": {
   "codemirror_mode": {
    "name": "ipython",
    "version": 3
   },
   "file_extension": ".py",
   "mimetype": "text/x-python",
   "name": "python",
   "nbconvert_exporter": "python",
   "pygments_lexer": "ipython3",
   "version": "3.11.4"
  }
 },
 "nbformat": 4,
 "nbformat_minor": 5
}
